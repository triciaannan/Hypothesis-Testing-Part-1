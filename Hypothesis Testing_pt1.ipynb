{
 "cells": [
  {
   "cell_type": "code",
   "execution_count": 21,
   "id": "b42b5752-1f0d-4500-ab0d-51a843c1e80f",
   "metadata": {},
   "outputs": [],
   "source": [
    "import pandas as pd\n",
    "import seaborn as sns\n",
    "import numpy as np\n",
    "import matplotlib.pyplot as plt\n",
    "from scipy import stats\n",
    "import random\n",
    "from statsmodels.stats.weightstats import ztest\n",
    "from scipy.stats import norm\n",
    "from scipy.stats import f_oneway\n",
    "\n",
    "from statsmodels.stats.multicomp import pairwise_tukeyhsd\n",
    "from statsmodels.stats.multitest import multipletests\n",
    "from scipy.stats import ttest_ind\n",
    "from itertools import combinations\n",
    "\n",
    "sns.set(color_codes =True)\n",
    "sns.set(rc={'figure.figsize':(15,6)})\n",
    "sns.set_palette(\"Set3\")"
   ]
  },
  {
   "cell_type": "markdown",
   "id": "5b9a2246-6cd3-4683-9ff7-ba96170710b2",
   "metadata": {},
   "source": [
    "## T-test\n",
    "**Null Hypothesis (H₀):** The average test score is 80  \r\n",
    "**Alternative Hypothesis (H₁):** The average test score is different from 80\r\n"
   ]
  },
  {
   "cell_type": "code",
   "execution_count": 2,
   "id": "5f13a0b3-096e-4ec0-87d7-80837338e95c",
   "metadata": {},
   "outputs": [
    {
     "name": "stdout",
     "output_type": "stream",
     "text": [
      "t-statistic: 3.145268133915396\n",
      "p-value: 0.004124752671100029\n",
      "Reject the null hypothesis: The sample mean is significantly different from the hypothesized mean.\n"
     ]
    }
   ],
   "source": [
    "import numpy as np\n",
    "\n",
    "# Using NumPy to generate the array directly\n",
    "# To use T-test the sample has to be less than 30\n",
    "data = np.random.randint(70, 101, size=27)\n",
    "data\n",
    "\n",
    "\n",
    "hypothesized_mean = 80\n",
    "\n",
    "# Perform one-sample t-test\n",
    "t_statistic, p_value = stats.ttest_1samp(data, hypothesized_mean)\n",
    "\n",
    "# Significance level (alpha)\n",
    "alpha = 0.05\n",
    "\n",
    "# Print results\n",
    "print(\"t-statistic:\", t_statistic)\n",
    "print(\"p-value:\", p_value)\n",
    "\n",
    "# Check if the p-value is less than alpha\n",
    "if p_value < alpha:\n",
    "    print(\"Reject the null hypothesis: The sample mean is significantly different from the hypothesized mean.\")\n",
    "else:\n",
    "    print(\"Fail to reject the null hypothesis: There is not enough evidence to conclude that the sample mean is different from the hypothesized mean.\")"
   ]
  },
  {
   "cell_type": "markdown",
   "id": "3b3aa9ac-02b4-4a11-bc59-73d6362ab64e",
   "metadata": {},
   "source": [
    "## Z-score\n",
    "**One Sample**"
   ]
  },
  {
   "cell_type": "code",
   "execution_count": 3,
   "id": "910a03ee-e1b2-4e09-9dce-1b4f09710142",
   "metadata": {},
   "outputs": [],
   "source": [
    "alpha = 0.05"
   ]
  },
  {
   "cell_type": "code",
   "execution_count": 4,
   "id": "b8ef95d2-45aa-49bf-8b77-f33df346f8b8",
   "metadata": {},
   "outputs": [
    {
     "data": {
      "text/plain": [
       "array([390, 350, 470, 390, 390, 400, 420, 490, 400, 360, 360, 420, 470,\n",
       "       480, 350, 420, 470, 400, 440, 400, 470, 430, 440, 370, 420, 380,\n",
       "       410, 480, 380, 420, 430, 470, 450, 460, 370, 380, 480, 400, 390,\n",
       "       350, 490, 450, 350, 450, 460, 480, 460, 490, 400, 380])"
      ]
     },
     "execution_count": 4,
     "metadata": {},
     "output_type": "execute_result"
    }
   ],
   "source": [
    "possible_weight = np.arange(350, 500, 10)\n",
    "barrel_weight = np.random.choice(possible_weight, size=50)\n",
    "barrel_weight"
   ]
  },
  {
   "cell_type": "code",
   "execution_count": 5,
   "id": "d9a0b6a8-136d-42eb-9f1f-b18de1503418",
   "metadata": {},
   "outputs": [],
   "source": [
    "population_mean = 250"
   ]
  },
  {
   "cell_type": "code",
   "execution_count": 6,
   "id": "54d161ab-de11-4596-b121-8af06b019003",
   "metadata": {},
   "outputs": [],
   "source": [
    "population_std = 10"
   ]
  },
  {
   "cell_type": "code",
   "execution_count": 7,
   "id": "0d9cf3a7-623b-4f7f-8372-1ec2513cd212",
   "metadata": {},
   "outputs": [
    {
     "name": "stdout",
     "output_type": "stream",
     "text": [
      "421.2\n"
     ]
    }
   ],
   "source": [
    "sample_mean=np.mean(barrel_weight)\n",
    "print(sample_mean)"
   ]
  },
  {
   "cell_type": "code",
   "execution_count": 8,
   "id": "80f0c619-3c6f-4bc1-b81c-5f3061253723",
   "metadata": {},
   "outputs": [
    {
     "name": "stdout",
     "output_type": "stream",
     "text": [
      "50\n"
     ]
    }
   ],
   "source": [
    "sample_size = len(barrel_weight)\n",
    "print(sample_size)"
   ]
  },
  {
   "cell_type": "code",
   "execution_count": 9,
   "id": "aec95520-509d-4e5f-b376-af622e72e727",
   "metadata": {},
   "outputs": [
    {
     "data": {
      "text/plain": [
       "2.421133618782738"
      ]
     },
     "execution_count": 9,
     "metadata": {},
     "output_type": "execute_result"
    }
   ],
   "source": [
    "z_score = (sample_mean - population_mean) / (population_std)/np.sqrt(sample_size)\n",
    "z_score"
   ]
  },
  {
   "cell_type": "code",
   "execution_count": 10,
   "id": "4a5593ec-1baa-43d7-b1dd-72e4c3a8ba8e",
   "metadata": {},
   "outputs": [
    {
     "name": "stdout",
     "output_type": "stream",
     "text": [
      "0.015472188948254084\n"
     ]
    }
   ],
   "source": [
    "p_value = 2*(1-norm.cdf(abs(z_score)))\n",
    "print(p_value)"
   ]
  },
  {
   "cell_type": "code",
   "execution_count": 11,
   "id": "90338a22-0697-4408-a12c-97d00b3aae73",
   "metadata": {},
   "outputs": [
    {
     "name": "stdout",
     "output_type": "stream",
     "text": [
      "Reject the null hypothesis: The sample mean is significantly different from the hypothesized mean.\n"
     ]
    }
   ],
   "source": [
    "if p_value < alpha:\n",
    " print(\"Reject the null hypothesis: The sample mean is significantly different from the hypothesized mean.\")\n",
    "else:\n",
    "    print(\"Fail to reject the null hypothesis: There is not enough evidence to conclude that the sample mean is different from the hypothesized mean.\")"
   ]
  },
  {
   "cell_type": "markdown",
   "id": "a9210efb-6e43-49f0-8f53-28c2af977853",
   "metadata": {},
   "source": [
    "## One Way ANOVA "
   ]
  },
  {
   "cell_type": "code",
   "execution_count": 12,
   "id": "bbdf7728-0c9c-4780-90c8-eaab57c0f913",
   "metadata": {},
   "outputs": [
    {
     "data": {
      "text/html": [
       "<div>\n",
       "<style scoped>\n",
       "    .dataframe tbody tr th:only-of-type {\n",
       "        vertical-align: middle;\n",
       "    }\n",
       "\n",
       "    .dataframe tbody tr th {\n",
       "        vertical-align: top;\n",
       "    }\n",
       "\n",
       "    .dataframe thead th {\n",
       "        text-align: right;\n",
       "    }\n",
       "</style>\n",
       "<table border=\"1\" class=\"dataframe\">\n",
       "  <thead>\n",
       "    <tr style=\"text-align: right;\">\n",
       "      <th></th>\n",
       "      <th>Blood pressure</th>\n",
       "      <th>Drug</th>\n",
       "    </tr>\n",
       "  </thead>\n",
       "  <tbody>\n",
       "    <tr>\n",
       "      <th>30</th>\n",
       "      <td>131</td>\n",
       "      <td>Drug B</td>\n",
       "    </tr>\n",
       "    <tr>\n",
       "      <th>22</th>\n",
       "      <td>129</td>\n",
       "      <td>Drug A</td>\n",
       "    </tr>\n",
       "    <tr>\n",
       "      <th>57</th>\n",
       "      <td>144</td>\n",
       "      <td>Drug B</td>\n",
       "    </tr>\n",
       "    <tr>\n",
       "      <th>29</th>\n",
       "      <td>132</td>\n",
       "      <td>Drug A</td>\n",
       "    </tr>\n",
       "    <tr>\n",
       "      <th>16</th>\n",
       "      <td>139</td>\n",
       "      <td>Drug A</td>\n",
       "    </tr>\n",
       "  </tbody>\n",
       "</table>\n",
       "</div>"
      ],
      "text/plain": [
       "    Blood pressure    Drug\n",
       "30             131  Drug B\n",
       "22             129  Drug A\n",
       "57             144  Drug B\n",
       "29             132  Drug A\n",
       "16             139  Drug A"
      ]
     },
     "execution_count": 12,
     "metadata": {},
     "output_type": "execute_result"
    }
   ],
   "source": [
    "bp_df = pd.read_excel(\"blood_pressure.xlsx\")\n",
    "bp_df.sample(5)"
   ]
  },
  {
   "cell_type": "code",
   "execution_count": 22,
   "id": "62cad054-4d9f-4f89-98dc-d4f0d8777e75",
   "metadata": {},
   "outputs": [
    {
     "data": {
      "image/png": "[encoded data removed]",
      "text/plain": [
       "<Figure size 500x500 with 1 Axes>"
      ]
     },
     "metadata": {},
     "output_type": "display_data"
    }
   ],
   "source": [
    "sns.catplot(data=bp_df, x=\"Drug\", kind=\"count\")\n",
    "sns.despine()\n",
    "plt.show()"
   ]
  },
  {
   "cell_type": "code",
   "execution_count": 23,
   "id": "4cc5dfa7-4c13-46ca-b689-211e9e9aab8e",
   "metadata": {},
   "outputs": [
    {
     "data": {
      "image/png": "[encoded data removed]",
      "text/plain": [
       "<Figure size 500x500 with 1 Axes>"
      ]
     },
     "metadata": {},
     "output_type": "display_data"
    }
   ],
   "source": [
    "sns.catplot(data=bp_df, x=\"Drug\", y=\"Blood pressure\", hue=\"Drug\", kind=\"box\")\n",
    "sns.despine()\n",
    "plt.show()"
   ]
  },
  {
   "cell_type": "code",
   "execution_count": 15,
   "id": "083ae385-f814-46a4-97a3-4c3289cc7b26",
   "metadata": {},
   "outputs": [
    {
     "data": {
      "text/html": [
       "<div>\n",
       "<style scoped>\n",
       "    .dataframe tbody tr th:only-of-type {\n",
       "        vertical-align: middle;\n",
       "    }\n",
       "\n",
       "    .dataframe tbody tr th {\n",
       "        vertical-align: top;\n",
       "    }\n",
       "\n",
       "    .dataframe thead tr th {\n",
       "        text-align: left;\n",
       "    }\n",
       "\n",
       "    .dataframe thead tr:last-of-type th {\n",
       "        text-align: right;\n",
       "    }\n",
       "</style>\n",
       "<table border=\"1\" class=\"dataframe\">\n",
       "  <thead>\n",
       "    <tr>\n",
       "      <th></th>\n",
       "      <th colspan=\"6\" halign=\"left\">Blood pressure</th>\n",
       "    </tr>\n",
       "    <tr>\n",
       "      <th></th>\n",
       "      <th>count</th>\n",
       "      <th>mean</th>\n",
       "      <th>median</th>\n",
       "      <th>std</th>\n",
       "      <th>min</th>\n",
       "      <th>max</th>\n",
       "    </tr>\n",
       "    <tr>\n",
       "      <th>Drug</th>\n",
       "      <th></th>\n",
       "      <th></th>\n",
       "      <th></th>\n",
       "      <th></th>\n",
       "      <th></th>\n",
       "      <th></th>\n",
       "    </tr>\n",
       "  </thead>\n",
       "  <tbody>\n",
       "    <tr>\n",
       "      <th>Drug A</th>\n",
       "      <td>30</td>\n",
       "      <td>133.266667</td>\n",
       "      <td>133.0</td>\n",
       "      <td>2.887946</td>\n",
       "      <td>128</td>\n",
       "      <td>139</td>\n",
       "    </tr>\n",
       "    <tr>\n",
       "      <th>Drug B</th>\n",
       "      <td>30</td>\n",
       "      <td>139.033333</td>\n",
       "      <td>139.0</td>\n",
       "      <td>3.986904</td>\n",
       "      <td>131</td>\n",
       "      <td>145</td>\n",
       "    </tr>\n",
       "    <tr>\n",
       "      <th>Drug C</th>\n",
       "      <td>30</td>\n",
       "      <td>137.000000</td>\n",
       "      <td>137.0</td>\n",
       "      <td>3.732430</td>\n",
       "      <td>130</td>\n",
       "      <td>145</td>\n",
       "    </tr>\n",
       "  </tbody>\n",
       "</table>\n",
       "</div>"
      ],
      "text/plain": [
       "       Blood pressure                                       \n",
       "                count        mean median       std  min  max\n",
       "Drug                                                        \n",
       "Drug A             30  133.266667  133.0  2.887946  128  139\n",
       "Drug B             30  139.033333  139.0  3.986904  131  145\n",
       "Drug C             30  137.000000  137.0  3.732430  130  145"
      ]
     },
     "execution_count": 15,
     "metadata": {},
     "output_type": "execute_result"
    }
   ],
   "source": [
    "bp_df.groupby('Drug').agg(['count', 'mean', 'median', 'std','min', 'max'])"
   ]
  },
  {
   "cell_type": "markdown",
   "id": "91f25138-175c-472b-a43b-4c603f2197b5",
   "metadata": {},
   "source": [
    "## Levene test\n",
    "**Tests the equality of variance**"
   ]
  },
  {
   "cell_type": "code",
   "execution_count": 16,
   "id": "b44f8915-eb81-4c05-a8cb-23fd5f2f85e7",
   "metadata": {},
   "outputs": [
    {
     "name": "stdout",
     "output_type": "stream",
     "text": [
      "Levene's statistic: 1.739232257407596\n",
      "P-value: 0.18170645077474307\n",
      "No significant difference in variances (ANOVA assumption met).\n"
     ]
    }
   ],
   "source": [
    "group_a = bp_df[bp_df[\"Drug\"] == \"Drug A\"][\"Blood pressure\"]\n",
    "group_b = bp_df[bp_df[\"Drug\"] == \"Drug B\"][\"Blood pressure\"]\n",
    "group_c = bp_df[bp_df[\"Drug\"] == \"Drug C\"][\"Blood pressure\"]\n",
    "\n",
    "statistic, p_value = stats.levene(group_a, group_b,group_c)\n",
    "\n",
    "print(\"Levene's statistic:\", statistic)\n",
    "print(\"P-value:\", p_value)\n",
    "\n",
    "alpha = 0.05\n",
    "if p_value < alpha:\n",
    "    print(\"Variances are significantly different (violation of ANOVA assumption).\")\n",
    "else:\n",
    "    print(\"No significant difference in variances (ANOVA assumption met).\")"
   ]
  },
  {
   "cell_type": "code",
   "execution_count": 17,
   "id": "7a64a514-b368-4ab3-a48f-b6c04cb6f85a",
   "metadata": {},
   "outputs": [
    {
     "name": "stdout",
     "output_type": "stream",
     "text": [
      "F-statistic: 20.172052401746733\n",
      "P-value: 6.346112123576863e-08\n",
      "Reject the null hypothesis: At least one group mean is significantly different.\n"
     ]
    }
   ],
   "source": [
    "# One-Way ANOVA\n",
    "f_stat, p_value = f_oneway(group_a, group_b, group_c)\n",
    "\n",
    "# Output the results\n",
    "print(\"F-statistic:\", f_stat)\n",
    "print(\"P-value:\", p_value)\n",
    "\n",
    "# Interpret\n",
    "alpha = 0.05\n",
    "if p_value < alpha:\n",
    "    print(\"Reject the null hypothesis: At least one group mean is significantly different.\")\n",
    "else:\n",
    "    print(\"Fail to reject the null hypothesis: No significant difference between group means.\")"
   ]
  },
  {
   "cell_type": "markdown",
   "id": "4e4fb592-a9d6-4bf9-b1f9-529b7001349c",
   "metadata": {},
   "source": [
    "## Bonferroni- Corrected Post-Hoc Tests\n",
    "**To find which specific groups differ**"
   ]
  },
  {
   "cell_type": "code",
   "execution_count": 18,
   "id": "26a39bd3-4c47-4d91-a650-40219e1f875d",
   "metadata": {},
   "outputs": [
    {
     "name": "stdout",
     "output_type": "stream",
     "text": [
      "Drug A vs Drug B: Raw p = 0.0000, Bonferroni-adjusted p = 0.0000, Reject H₀: True\n",
      "Drug A vs Drug C: Raw p = 0.0001, Bonferroni-adjusted p = 0.0002, Reject H₀: True\n",
      "Drug B vs Drug C: Raw p = 0.0460, Bonferroni-adjusted p = 0.1380, Reject H₀: False\n"
     ]
    }
   ],
   "source": [
    "groups = bp_df[\"Drug\"].unique()\n",
    "\n",
    "# Create pairwise combinations\n",
    "pairs= list(combinations(groups,2))\n",
    "\n",
    "# to store results\n",
    "p_values = []\n",
    "comparisons =[]\n",
    "\n",
    "for g1, g2 in pairs:\n",
    "    data1 = bp_df[bp_df[\"Drug\"] == g1][\"Blood pressure\"]\n",
    "    data2 = bp_df[bp_df[\"Drug\"] == g2][\"Blood pressure\"]\n",
    "\n",
    "    stat, p = ttest_ind(data1, data2)\n",
    "    p_values.append(p)\n",
    "    comparisons.append(f\"{g1} vs {g2}\")\n",
    "\n",
    "# Apply Bonferroni correction\n",
    "adjusted = multipletests(p_values, method='bonferroni')\n",
    "\n",
    "for comp, raw_p, adj_p, reject in zip(comparisons, p_values,adjusted[1], adjusted[0]):\n",
    "     print(f\"{comp}: Raw p = {raw_p:.4f}, Bonferroni-adjusted p = {adj_p:.4f}, Reject H₀: {reject}\")\n"
   ]
  }
 ],
 "metadata": {
  "kernelspec": {
   "display_name": "Python 3 (ipykernel)",
   "language": "python",
   "name": "python3"
  },
  "language_info": {
   "codemirror_mode": {
    "name": "ipython",
    "version": 3
   },
   "file_extension": ".py",
   "mimetype": "text/x-python",
   "name": "python",
   "nbconvert_exporter": "python",
   "pygments_lexer": "ipython3",
   "version": "3.11.8"
  }
 },
 "nbformat": 4,
 "nbformat_minor": 5
}
